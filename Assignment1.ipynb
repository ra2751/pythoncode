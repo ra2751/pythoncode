{
 "cells": [
  {
   "cell_type": "markdown",
   "id": "618baec4",
   "metadata": {},
   "source": [
    "#### 1. Write a program which will find all such numbers which are divisible by 7 but are not a multiple of 5, between 2000 and 3200 (both included). The numbers obtained should be printed in a comma-separated sequence on a single line."
   ]
  },
  {
   "cell_type": "code",
   "execution_count": 5,
   "id": "8a1557b9",
   "metadata": {},
   "outputs": [],
   "source": [
    "def divisibleby7(a,b):\n",
    "    if (a<2000) or (b<3200) or (a>2000) or (b<2000):\n",
    "        return \"Values should be 2000 and 3200\"\n",
    "    else: \n",
    "        lst = []\n",
    "        for i in range(a,b+1,1): \n",
    "            if ((i%7==0) and (i%5!=0)):\n",
    "                lst.append(i)\n",
    "        return lst"
   ]
  },
  {
   "cell_type": "code",
   "execution_count": 6,
   "id": "87e38069",
   "metadata": {},
   "outputs": [
    {
     "name": "stdout",
     "output_type": "stream",
     "text": [
      "[2002, 2009, 2016, 2023, 2037, 2044, 2051, 2058, 2072, 2079, 2086, 2093, 2107, 2114, 2121, 2128, 2142, 2149, 2156, 2163, 2177, 2184, 2191, 2198, 2212, 2219, 2226, 2233, 2247, 2254, 2261, 2268, 2282, 2289, 2296, 2303, 2317, 2324, 2331, 2338, 2352, 2359, 2366, 2373, 2387, 2394, 2401, 2408, 2422, 2429, 2436, 2443, 2457, 2464, 2471, 2478, 2492, 2499, 2506, 2513, 2527, 2534, 2541, 2548, 2562, 2569, 2576, 2583, 2597, 2604, 2611, 2618, 2632, 2639, 2646, 2653, 2667, 2674, 2681, 2688, 2702, 2709, 2716, 2723, 2737, 2744, 2751, 2758, 2772, 2779, 2786, 2793, 2807, 2814, 2821, 2828, 2842, 2849, 2856, 2863, 2877, 2884, 2891, 2898, 2912, 2919, 2926, 2933, 2947, 2954, 2961, 2968, 2982, 2989, 2996, 3003, 3017, 3024, 3031, 3038, 3052, 3059, 3066, 3073, 3087, 3094, 3101, 3108, 3122, 3129, 3136, 3143, 3157, 3164, 3171, 3178, 3192, 3199]\n"
     ]
    }
   ],
   "source": [
    "print(divisibleby7(2000,3200))"
   ]
  },
  {
   "cell_type": "code",
   "execution_count": 10,
   "id": "57990fff",
   "metadata": {},
   "outputs": [
    {
     "name": "stdout",
     "output_type": "stream",
     "text": [
      "Values should be 2000 and 3200\n"
     ]
    }
   ],
   "source": [
    "print(divisibleby7(2000,1999))"
   ]
  },
  {
   "cell_type": "markdown",
   "id": "2bf207ee",
   "metadata": {},
   "source": [
    "##### 2. Write a Python program to accept the user's first and last name and then getting them printed in the the reverse order with a space between first name and last name."
   ]
  },
  {
   "cell_type": "code",
   "execution_count": 23,
   "id": "880aff8c",
   "metadata": {},
   "outputs": [],
   "source": [
    "def reverseString(firstname,lastname):\n",
    "    firstname = firstname[::-1]\n",
    "    lastname = lastname[::-1]\n",
    "    fullname = firstname + \" \" + lastname\n",
    "    print(fullname)"
   ]
  },
  {
   "cell_type": "code",
   "execution_count": 18,
   "id": "8fe9481e",
   "metadata": {},
   "outputs": [
    {
     "name": "stdout",
     "output_type": "stream",
     "text": [
      "Enter the First Name:\n",
      "Rahul\n",
      "Enter the Last Name:\n",
      "Agarwal\n",
      "\n",
      "\n",
      "Rahul Agarwal\n"
     ]
    }
   ],
   "source": [
    "print(\"Enter the First Name:\")\n",
    "FirstName = input()\n",
    "\n",
    "print(\"Enter the Last Name:\")\n",
    "LastName = input()\n",
    "\n",
    "print(\"\\n\")\n",
    "print(FirstName, LastName)"
   ]
  },
  {
   "cell_type": "code",
   "execution_count": 24,
   "id": "e97d7a32",
   "metadata": {},
   "outputs": [
    {
     "name": "stdout",
     "output_type": "stream",
     "text": [
      "luhaR lawragA\n"
     ]
    }
   ],
   "source": [
    "reverseString(FirstName,LastName)"
   ]
  },
  {
   "cell_type": "markdown",
   "id": "686f5130",
   "metadata": {},
   "source": [
    "##### 3. Write a Python program to find the volume of a sphere with diameter 12 cm. Formula: V=4/3 * π * r 3"
   ]
  },
  {
   "cell_type": "code",
   "execution_count": 38,
   "id": "f21a1410",
   "metadata": {},
   "outputs": [],
   "source": [
    "def sphereVolume(diameter):\n",
    "    radius = round(diameter/2,2)\n",
    "    radius_cal = radius*radius*radius\n",
    "    vol = (4/3)*3.14*radius_cal\n",
    "    print(\"The volume of sphere with diameter {}cm is {}\".format(diameter,round(vol,2)))"
   ]
  },
  {
   "cell_type": "code",
   "execution_count": 39,
   "id": "eb55ce5e",
   "metadata": {},
   "outputs": [
    {
     "name": "stdout",
     "output_type": "stream",
     "text": [
      "The volume of sphere with diameter 12cm is 904.32\n"
     ]
    }
   ],
   "source": [
    "sphereVolume(12)"
   ]
  },
  {
   "cell_type": "code",
   "execution_count": null,
   "id": "6fd83ff5",
   "metadata": {},
   "outputs": [],
   "source": []
  }
 ],
 "metadata": {
  "kernelspec": {
   "display_name": "Python 3",
   "language": "python",
   "name": "python3"
  },
  "language_info": {
   "codemirror_mode": {
    "name": "ipython",
    "version": 3
   },
   "file_extension": ".py",
   "mimetype": "text/x-python",
   "name": "python",
   "nbconvert_exporter": "python",
   "pygments_lexer": "ipython3",
   "version": "3.8.8"
  }
 },
 "nbformat": 4,
 "nbformat_minor": 5
}
