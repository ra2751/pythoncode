{
 "cells": [
  {
   "cell_type": "markdown",
   "id": "5d445546",
   "metadata": {},
   "source": [
    "###### 1. Create the below pattern using nested for loop in Python"
   ]
  },
  {
   "cell_type": "code",
   "execution_count": 1,
   "id": "d2aacf1f",
   "metadata": {},
   "outputs": [
    {
     "name": "stdout",
     "output_type": "stream",
     "text": [
      "*  \n",
      "* *  \n",
      "* * *  \n",
      "* * * *  \n",
      "* * * * *  \n",
      "* * * *  \n",
      "* * *  \n",
      "* *  \n",
      "*  \n"
     ]
    }
   ],
   "source": [
    "n = 5\n",
    "for i in range(n):\n",
    "    for j in range(i+1):\n",
    "        print(\"*\",end=\" \")\n",
    "    print(\" \")\n",
    "for a in range(i,0,-1):\n",
    "    for b in range(a,0,-1):\n",
    "        print(\"*\",end=\" \")\n",
    "    print(\" \")"
   ]
  },
  {
   "cell_type": "markdown",
   "id": "5f9e15e4",
   "metadata": {},
   "source": [
    "##### 2. Write a Python program to reverse a word after accepting the input from the user.\n",
    "Sample Output:\n",
    "<br>input word: ineuron\n",
    "<br>output: norueni"
   ]
  },
  {
   "cell_type": "code",
   "execution_count": 2,
   "id": "44d11326",
   "metadata": {},
   "outputs": [],
   "source": [
    "def reverseWord(text):\n",
    "    strlst = text.split()\n",
    "    rev_str = [i[::-1] for i in strlst]\n",
    "    for i in rev_str:\n",
    "        print(i,end=\" \")"
   ]
  },
  {
   "cell_type": "code",
   "execution_count": 3,
   "id": "112d479c",
   "metadata": {},
   "outputs": [
    {
     "name": "stdout",
     "output_type": "stream",
     "text": [
      "Rahul Agarwal\n",
      "\n",
      "\n",
      "luhaR lawragA "
     ]
    }
   ],
   "source": [
    "s = input()\n",
    "print(\"\\n\")\n",
    "reverseWord(s)"
   ]
  },
  {
   "cell_type": "code",
   "execution_count": null,
   "id": "47fb6b3c",
   "metadata": {},
   "outputs": [],
   "source": []
  }
 ],
 "metadata": {
  "kernelspec": {
   "display_name": "Python 3",
   "language": "python",
   "name": "python3"
  },
  "language_info": {
   "codemirror_mode": {
    "name": "ipython",
    "version": 3
   },
   "file_extension": ".py",
   "mimetype": "text/x-python",
   "name": "python",
   "nbconvert_exporter": "python",
   "pygments_lexer": "ipython3",
   "version": "3.8.8"
  }
 },
 "nbformat": 4,
 "nbformat_minor": 5
}
